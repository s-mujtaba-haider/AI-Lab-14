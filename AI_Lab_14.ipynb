{
  "nbformat": 4,
  "nbformat_minor": 0,
  "metadata": {
    "colab": {
      "provenance": []
    },
    "kernelspec": {
      "name": "python3",
      "display_name": "Python 3"
    },
    "language_info": {
      "name": "python"
    }
  },
  "cells": [
    {
      "cell_type": "code",
      "execution_count": null,
      "metadata": {
        "colab": {
          "base_uri": "https://localhost:8080/"
        },
        "id": "i8hk3g2xSdMh",
        "outputId": "59324e74-e4a6-4153-9f11-06dc38772eaa"
      },
      "outputs": [
        {
          "output_type": "stream",
          "name": "stdout",
          "text": [
            "Optimal Path: ['A', 'B', 'C', 'D']\n",
            "Total Cost: 4\n"
          ]
        }
      ],
      "source": [
        "import heapq\n",
        "\n",
        "class Graph:\n",
        "    def __init__(self):\n",
        "        self.edges = {}\n",
        "\n",
        "    def add_edge(self, node1, node2, cost):\n",
        "        if node1 not in self.edges:\n",
        "            self.edges[node1] = []\n",
        "        self.edges[node1].append((node2, cost))\n",
        "\n",
        "    def ucs(self, start, goal):\n",
        "        explored = set()\n",
        "        frontier = [(0, start, [])]  # cost, node, path\n",
        "\n",
        "        while frontier:\n",
        "            cost, current_node, path = heapq.heappop(frontier)\n",
        "            if current_node in explored:\n",
        "                continue\n",
        "\n",
        "            path = path + [current_node]\n",
        "            if current_node == goal:\n",
        "                return path, cost\n",
        "\n",
        "            explored.add(current_node)\n",
        "\n",
        "            if current_node in self.edges:\n",
        "                for neighbor, edge_cost in self.edges[current_node]:\n",
        "                    if neighbor not in explored:\n",
        "                        heapq.heappush(frontier, (cost + edge_cost, neighbor, path))\n",
        "\n",
        "        return None, float('inf')\n",
        "\n",
        "graph = Graph()\n",
        "graph.add_edge('A', 'B', 1)\n",
        "graph.add_edge('A', 'C', 5)\n",
        "graph.add_edge('B', 'C', 2)\n",
        "graph.add_edge('B', 'D', 4)\n",
        "graph.add_edge('C', 'D', 1)\n",
        "\n",
        "start_node = 'A'\n",
        "goal_node = 'D'\n",
        "path, cost = graph.ucs(start_node, goal_node)\n",
        "\n",
        "if path:\n",
        "    print(\"Optimal Path:\", path)\n",
        "    print(\"Total Cost:\", cost)\n",
        "else:\n",
        "    print(\"No path found from\", start_node, \"to\", goal_node)\n"
      ]
    }
  ]
}